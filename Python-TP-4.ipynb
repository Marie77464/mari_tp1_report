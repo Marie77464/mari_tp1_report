{
  "cells": [
    {
      "cell_type": "markdown",
      "id": "d68c1dee",
      "metadata": {
        "id": "d68c1dee"
      },
      "source": [
        "# Practical_4: Flow control"
      ]
    },
    {
      "cell_type": "code",
      "execution_count": null,
      "id": "40d6ecdd",
      "metadata": {},
      "outputs": [
        {
          "name": "stdout",
          "output_type": "stream",
          "text": [
            "number is  positive\n"
          ]
        }
      ],
      "source": [
        "### Exercise 1:\n",
        "\"\"\"\"\"\"\"\"\"\"\n",
        "Write a Python program that checks if a number is positive or negative.\n",
        "\"\"\"\"\"\"\"\"\"\"\"\n",
        "n=int(input(\"give a number \"))\n",
        "if n > 0 :\n",
        "    print(\"number is  positive\")\n",
        "elif n < 0 :\n",
        "    print(\"number is negative\")\n",
        "else :\n",
        "    print(\"number is zero \") \n",
        "\n",
        "\n",
        "\"\""
      ]
    },
    {
      "cell_type": "code",
      "execution_count": 20,
      "id": "6520c528",
      "metadata": {},
      "outputs": [
        {
          "name": "stdout",
          "output_type": "stream",
          "text": [
            "The string doesn't start with a vowel\n"
          ]
        },
        {
          "data": {
            "text/plain": [
              "'M'"
            ]
          },
          "execution_count": 20,
          "metadata": {},
          "output_type": "execute_result"
        }
      ],
      "source": [
        "### Exercise 2:\n",
        "\"\"\"\"\"\"\"\"\"\"\"\n",
        "Write a Python function that checks if a string starts with a vowel.\n",
        "\"\"\"\n",
        "def chaine(my_string):\n",
        "      if my_string[0].lower() in ['a', 'e', 'i', 'o', 'u']:\n",
        "        print(\"The string starts with a vowel\")\n",
        "      else:\n",
        "        print(\"The string doesn't start with a vowel\")\n",
        "      return my_string[0]\n",
        "\n",
        "# Appel de la fonction\n",
        "my_string = input(\"Give a string: \")\n",
        "chaine(my_string)\n",
        "\n"
      ]
    },
    {
      "cell_type": "code",
      "execution_count": 1,
      "id": "5cc4cd44",
      "metadata": {},
      "outputs": [
        {
          "name": "stdout",
          "output_type": "stream",
          "text": [
            "10: Even\n",
            "15: Odd\n",
            "22: Even\n",
            "33: Odd\n",
            "40: Even\n"
          ]
        }
      ],
      "source": [
        "##Exercise 3:\n",
        "\"\"\"\"\n",
        "Write a Python program that takes a list of integers and prints \"Even\" for each even number and \"Odd\" for each odd number.\n",
        "\"\"\"\n",
        "\n",
        "def check_even_odd(numbers):\n",
        "    for num in numbers:\n",
        "        if num % 2 == 0:\n",
        "            print(f\"{num}: Even\")\n",
        "        else:\n",
        "            print(f\"{num}: Odd\")\n",
        "\n",
        "numbers_list = [10, 15, 22, 33, 40]\n",
        "check_even_odd(numbers_list)\n"
      ]
    },
    {
      "cell_type": "code",
      "execution_count": 3,
      "id": "37b50032",
      "metadata": {},
      "outputs": [
        {
          "name": "stdout",
          "output_type": "stream",
          "text": [
            "2023 is not a leap year.\n"
          ]
        }
      ],
      "source": [
        "### Exercise 4:\n",
        "\"\"\"\n",
        "Write a Python program that checks if a given year is a leap year.\n",
        "\"\"\"\"\"\n",
        "def is_leap_year(year):\n",
        "    if (year % 4 == 0 and year % 100 != 0) or (year % 400 == 0):\n",
        "        return True\n",
        "    else:\n",
        "        return False\n",
        "\n",
        "\n",
        "year = int(input(\"Enter a year: \"))\n",
        "\n",
        "if is_leap_year(year):\n",
        "    print(f\"{year} is a leap year.\")\n",
        "else:\n",
        "    print(f\"{year} is not a leap year.\")\n"
      ]
    },
    {
      "cell_type": "code",
      "execution_count": 4,
      "id": "f871c39b",
      "metadata": {},
      "outputs": [
        {
          "name": "stdout",
          "output_type": "stream",
          "text": [
            "15 is divisible by both 3 and 5.\n"
          ]
        }
      ],
      "source": [
        "# Exercise 5:\n",
        "\"\"\"\"\n",
        "Write a Python function that checks if a number is divisible by both 3 and 5.\n",
        "\"\"\"\n",
        "def is_divisible_by_3_and_5(number):\n",
        "    return number % 3 == 0 and number % 5 == 0\n",
        "\n",
        "num = 15\n",
        "if is_divisible_by_3_and_5(num):\n",
        "    print(f\"{num} is divisible by both 3 and 5.\")\n",
        "else:\n",
        "    print(f\"{num} is not divisible by both 3 and 5.\")\n"
      ]
    },
    {
      "cell_type": "code",
      "execution_count": 6,
      "id": "751f3749",
      "metadata": {},
      "outputs": [
        {
          "name": "stdout",
          "output_type": "stream",
          "text": [
            "Warm\n"
          ]
        }
      ],
      "source": [
        "## Exercise 6:\n",
        "\"\"\"\"\n",
        "Write a Python program that prints \"Hot\" if the temperature is above 30, \"Warm\" if it is between 15 and 30, and \"Cold\" if it is below 15.\n",
        "\"\"\"\n",
        "# Function to determine temperature category\n",
        "def check_temperature(temp):\n",
        "    if temp > 30:\n",
        "        return \"Hot\"\n",
        "    elif 15 <= temp <= 30:\n",
        "        return \"Warm\"\n",
        "    else:\n",
        "        return \"Cold\"\n",
        "\n",
        "temperature = float(input(\"Enter the temperature in Celsius: \"))\n",
        "print(check_temperature(temperature))\n",
        "\n"
      ]
    },
    {
      "cell_type": "code",
      "execution_count": 7,
      "id": "95ee0f80",
      "metadata": {},
      "outputs": [
        {
          "name": "stdout",
          "output_type": "stream",
          "text": [
            "The string contains the letter 'a'.\n"
          ]
        }
      ],
      "source": [
        "## Exercise 7:\n",
        "\"\"\"\"\n",
        "Write a Python program that checks if a string contains the letter 'a'.\n",
        "\"\"\"\n",
        "\n",
        "input_string = input(\"Enter a string: \")\n",
        "if 'a' in input_string:\n",
        "    print(\"The string contains the letter 'a'.\")\n",
        "else:\n",
        "    print(\"The string does not contain the letter 'a'.\")\n",
        "\n"
      ]
    },
    {
      "cell_type": "code",
      "execution_count": 8,
      "id": "5c0d976f",
      "metadata": {},
      "outputs": [
        {
          "name": "stdout",
          "output_type": "stream",
          "text": [
            "The second number (20) is larger than the first number (10).\n"
          ]
        }
      ],
      "source": [
        "## Exercise 8:\n",
        "\"\"\"\"\n",
        "Write a Python function that checks if two numbers are equal, or which one is larger.\n",
        "\"\"\"\n",
        "def compare_numbers(a, b):\n",
        "    if a == b:\n",
        "        return \"The numbers are equal.\"\n",
        "    elif a > b:\n",
        "        return f\"The first number ({a}) is larger than the second number ({b}).\"\n",
        "    else:\n",
        "        return f\"The second number ({b}) is larger than the first number ({a}).\"\n",
        "\n",
        "result = compare_numbers(10, 20)\n",
        "print(result)\n"
      ]
    },
    {
      "cell_type": "code",
      "execution_count": 10,
      "id": "c70f7f7d",
      "metadata": {},
      "outputs": [
        {
          "name": "stdout",
          "output_type": "stream",
          "text": [
            "The list is not empty\n"
          ]
        }
      ],
      "source": [
        "# Exercise 9:\n",
        "\"\"\"\"\n",
        "Write a Python program that checks if a list is empty.\n",
        "\"\"\"\n",
        "my_list = [1,6]\n",
        "if not my_list:\n",
        "   print(\"The list is empty\")\n",
        "else:\n",
        "   print(\"The list is not empty\")"
      ]
    },
    {
      "cell_type": "code",
      "execution_count": null,
      "id": "2a1233b0",
      "metadata": {},
      "outputs": [],
      "source": [
        "# Exercise 10:\n",
        "\"\"\"\"\n",
        "Write a Python function that takes two strings and checks if they are anagrams.\n",
        "\"\"\"\n",
        "def are_anagrams(str1, str2):\n",
        "    str1 = str1.replace(\" \", \"\").lower()\n",
        "    str2 = str2.replace(\" \", \"\").lower()\n",
        "\n",
        "    return sorted(str1) == sorted(str2)\n",
        "\n",
        "print(are_anagrams(\"listen\", \"silent\"))  \n",
        "print(are_anagrams(\"hello\", \"world\"))    \n"
      ]
    },
    {
      "cell_type": "code",
      "execution_count": 18,
      "id": "19706787",
      "metadata": {},
      "outputs": [
        {
          "name": "stdout",
          "output_type": "stream",
          "text": [
            "-2 is not a prime number.\n"
          ]
        }
      ],
      "source": [
        "## Exercise 11:\n",
        "\"\"\"\"\n",
        "Write a Python program that checks if a number is prime.\n",
        "\"\"\"\n",
        "def is_prime(number):     \n",
        "    if number <= 1:\n",
        "        return False\n",
        "    for i in range(2, int(number**0.5) + 1):\n",
        "        if number % i == 0:\n",
        "            return False\n",
        "    return True\n",
        "\n",
        "num = int(input(\"Enter a number: \"))\n",
        "if is_prime(num):\n",
        "    print(f\"{num} is a prime number.\")\n",
        "else:\n",
        "    print(f\"{num} is not a prime number.\")\n"
      ]
    },
    {
      "cell_type": "code",
      "execution_count": 22,
      "id": "bd3a0628",
      "metadata": {},
      "outputs": [
        {
          "name": "stdout",
          "output_type": "stream",
          "text": [
            "The list is sorted in ascending order.\n"
          ]
        }
      ],
      "source": [
        "## Exercise 12:\n",
        "\"\"\"\"\n",
        "Write a Python program that checks if a list of numbers is sorted in ascending order.\n",
        "\"\"\"\n",
        "def is_sorted_ascending(lst):\n",
        "    return lst == sorted(lst)\n",
        "\n",
        "numbers = [1, 2, 3, 4, 5]\n",
        "if is_sorted_ascending(numbers):\n",
        "    print(\"The list is sorted in ascending order.\")\n",
        "else:\n",
        "    print(\"The list is not sorted in ascending order.\")"
      ]
    },
    {
      "cell_type": "code",
      "execution_count": null,
      "id": "dfe2e8f0",
      "metadata": {},
      "outputs": [],
      "source": [
        "## Exercise 13:\n",
        "Write a Python function that takes a character and checks if it is a digit"
      ]
    },
    {
      "cell_type": "code",
      "execution_count": null,
      "id": "546f4f14",
      "metadata": {},
      "outputs": [
        {
          "name": "stdout",
          "output_type": "stream",
          "text": [
            "True\n",
            "False\n",
            "False\n"
          ]
        }
      ],
      "source": [
        "## Exercise 14:\n",
        "\"\"\"\"\n",
        "Write a Python function that checks if a string contains only uppercase letters.\n",
        "\"\"\"\n",
        "def is_all_uppercase(s):\n",
        "    return s.isupper() and s.isalpha()\n",
        "\n",
        "print(is_all_uppercase(\"HELLO\"))  \n",
        "print(is_all_uppercase(\"Hello\"))  \n",
        "print(is_all_uppercase(\"HELLO123\")) \n"
      ]
    },
    {
      "cell_type": "code",
      "execution_count": 24,
      "id": "5bbde836",
      "metadata": {},
      "outputs": [
        {
          "name": "stdout",
          "output_type": "stream",
          "text": [
            "3 is not a multiple of 10.\n"
          ]
        }
      ],
      "source": [
        "## Exercise 15:\n",
        "\"\"\"\"\n",
        "Write a Python program that checks if a number is a multiple of 10.\n",
        "\"\"\"\n",
        "def is_multiple_of_ten(number):\n",
        "    if number % 10 == 0:\n",
        "        return True\n",
        "    return False\n",
        "\n",
        "num = int(input(\"Enter a number: \"))\n",
        "if is_multiple_of_ten(num):\n",
        "    print(f\"{num} is a multiple of 10.\")\n",
        "else:\n",
        "    print(f\"{num} is not a multiple of 10.\")\n"
      ]
    },
    {
      "cell_type": "code",
      "execution_count": 25,
      "id": "40202531",
      "metadata": {},
      "outputs": [
        {
          "data": {
            "text/plain": [
              "True"
            ]
          },
          "execution_count": 25,
          "metadata": {},
          "output_type": "execute_result"
        }
      ],
      "source": [
        "### Exercise 16:\n",
        "\"\"\"\"\n",
        "Write a Python function that checks if a list contains any duplicate \n",
        "\"\"\"\n",
        "def has_duplicates(lst):\n",
        "    return len(lst) != len(set(lst))\n",
        "L=\"Python programming\"\n",
        "A=has_duplicates(L)\n",
        "A\n"
      ]
    },
    {
      "cell_type": "code",
      "execution_count": null,
      "id": "ac58a73f",
      "metadata": {},
      "outputs": [],
      "source": [
        "# Exercise 17:\n",
        "\"\"\"\"\n",
        "Write a Python program that prints \"Teenager\" if the age is between 13 and 19, otherwise it prints \"Not a teenager.\"\n",
        "\"\"\""
      ]
    },
    {
      "cell_type": "code",
      "execution_count": null,
      "id": "09802ea4",
      "metadata": {},
      "outputs": [],
      "source": [
        "## Exercise 18:\n",
        "\"\"\"\"\n",
        "Write a Python function that checks if a list contains an element greater than 100.\n",
        "\"\"\"\n",
        "def contains_greater_than_100(lst):\n",
        "    return any(x > 100 for x in lst)\n"
      ]
    },
    {
      "cell_type": "code",
      "execution_count": 26,
      "id": "7a7f67b9",
      "metadata": {},
      "outputs": [
        {
          "name": "stdout",
          "output_type": "stream",
          "text": [
            "3 is an odd number.\n"
          ]
        }
      ],
      "source": [
        "## Exercise 19:\n",
        "\"\"\"\"\n",
        "Write a Python program that checks if a number is even or odd.\n",
        "\"\"\"\n",
        "\n",
        "number = int(input(\"Enter a number: \"))\n",
        "\n",
        "if number % 2 == 0:\n",
        "    print(f\"{number} is an even number.\")\n",
        "else:\n",
        "    print(f\"{number} is an odd number.\")\n",
        "\n"
      ]
    },
    {
      "cell_type": "code",
      "execution_count": null,
      "id": "7940d8d3",
      "metadata": {},
      "outputs": [
        {
          "name": "stdout",
          "output_type": "stream",
          "text": [
            "True\n",
            "False\n"
          ]
        }
      ],
      "source": [
        "## Exercise 20:\n",
        "\"\"\"\"\n",
        "Write a Python function that checks if a string ends with a punctuation mark.\n",
        "\"\"\"\n",
        "\n",
        "import string\n",
        "\n",
        "def ends_with_punctuation(s):\n",
        "    return s.endswith(tuple(string.punctuation))\n",
        "\n",
        "# Example usage\n",
        "print(ends_with_punctuation(\"Hello!\"))  \n",
        "print(ends_with_punctuation(\"Hello\"))  \n"
      ]
    },
    {
      "cell_type": "code",
      "execution_count": 28,
      "id": "06eb4bd8",
      "metadata": {},
      "outputs": [
        {
          "name": "stdout",
          "output_type": "stream",
          "text": [
            "Yes\n"
          ]
        }
      ],
      "source": [
        "## Exercise 21:\n",
        "\"\"\"\"\n",
        "Write a Python program that prints \"Yes\" if the number is between 1 and 100, otherwise it prints \"No.\"\n",
        "\"\"\" \n",
        "number = int(input(\"Enter a number: \"))\n",
        "\n",
        "if 1 <= number <= 100:\n",
        "    print(\"Yes\")\n",
        "else:\n",
        "    print(\"No\")\n",
        "\n"
      ]
    },
    {
      "cell_type": "code",
      "execution_count": 29,
      "id": "a521db08",
      "metadata": {},
      "outputs": [
        {
          "name": "stdout",
          "output_type": "stream",
          "text": [
            "The strings do not have the same length.\n"
          ]
        }
      ],
      "source": [
        "## Exercise 22:\n",
        "\"\"\"\"\n",
        "Write a Python program that checks if two strings have the same length.\n",
        "\"\"\"\n",
        "def check_same_length(string1, string2):\n",
        "    if len(string1) == len(string2):\n",
        "        return \"The strings have the same length.\"\n",
        "    else:\n",
        "        return \"The strings do not have the same length.\"\n",
        "\n",
        "string1 = input(\"Enter the first string: \")\n",
        "string2 = input(\"Enter the second string: \")\n",
        "\n",
        "result = check_same_length(string1, string2)\n",
        "print(result)\n"
      ]
    },
    {
      "cell_type": "code",
      "execution_count": 30,
      "id": "1be063e8",
      "metadata": {},
      "outputs": [
        {
          "name": "stdout",
          "output_type": "stream",
          "text": [
            "False\n",
            "True\n",
            "False\n"
          ]
        }
      ],
      "source": [
        "## Exercise 23:\n",
        "\"\"\"\"\n",
        "Write a Python function that checks if a number is greater than its reverse.\n",
        "\"\"\"\n",
        "def is_greater_than_reverse(number):\n",
        "    reversed_number = int(str(number)[::-1])\n",
        "    return number > reversed_number\n",
        "\n",
        "# Example usage\n",
        "print(is_greater_than_reverse(123))  \n",
        "print(is_greater_than_reverse(321))  \n",
        "print(is_greater_than_reverse(121))  \n"
      ]
    },
    {
      "cell_type": "code",
      "execution_count": 32,
      "id": "d9acb219",
      "metadata": {},
      "outputs": [
        {
          "name": "stdout",
          "output_type": "stream",
          "text": [
            "The password contains both letters and numbers.\n"
          ]
        }
      ],
      "source": [
        "## Exercise 24:\n",
        "\"\"\"\"\n",
        "Write a Python program that checks if a password contains both letters and numbers.\n",
        "\"\"\"\n",
        "def is_valid_password(password):\n",
        "    has_letter = any(char.isalpha() for char in password)\n",
        "    has_number = any(char.isdigit() for char in password)\n",
        "    \n",
        "    if has_letter and has_number:\n",
        "        return True\n",
        "    return False\n",
        "\n",
        "password = input(\"Enter a password: \")\n",
        "if is_valid_password(password):\n",
        "    print(\"The password contains both letters and numbers.\")\n",
        "else:\n",
        "    print(\"The password must contain both letters and numbers.\")\n"
      ]
    },
    {
      "cell_type": "code",
      "execution_count": 34,
      "id": "a4d16584",
      "metadata": {},
      "outputs": [
        {
          "name": "stdout",
          "output_type": "stream",
          "text": [
            "1 is NOT between 10 and 20.\n"
          ]
        }
      ],
      "source": [
        "## Exercise 25:\n",
        "\"\"\"\"\n",
        "Write a Python program that checks if a number is between two given numbers.\n",
        "\"\"\"\n",
        "\n",
        "def is_between(number, lower, upper):\n",
        "    return min(lower, upper) <= number <= max(lower, upper)\n",
        "\n",
        "num = 1\n",
        "lower_bound = 10\n",
        "upper_bound = 20\n",
        "\n",
        "if is_between(num, lower_bound, upper_bound):\n",
        "    print(f\"{num} is between {lower_bound} and {upper_bound}.\")\n",
        "else:\n",
        "    print(f\"{num} is NOT between {lower_bound} and {upper_bound}.\")\n",
        "\n",
        "\n"
      ]
    },
    {
      "cell_type": "code",
      "execution_count": null,
      "id": "d30e2e8f",
      "metadata": {},
      "outputs": [],
      "source": [
        "\n",
        "### Exercise 26:\n",
        "Write a Python function that checks if all characters in a string are unique.\n",
        "\n",
        "```python"
      ]
    },
    {
      "cell_type": "code",
      "execution_count": null,
      "id": "9a58e90c",
      "metadata": {},
      "outputs": [],
      "source": [
        "## Exercise 28:\n",
        "Write a Python function that checks if a word is a palindrome.\n"
      ]
    },
    {
      "cell_type": "code",
      "execution_count": null,
      "id": "961e3757",
      "metadata": {},
      "outputs": [],
      "source": [
        "## Exercise 29:\n",
        "Write a Python program that prints \"Fizz\" if a number is divisible by 3, \"Buzz\" if it is divisible by 5, and \"FizzBuzz\" if divisible by both.\n"
      ]
    },
    {
      "cell_type": "code",
      "execution_count": null,
      "id": "59e2321e",
      "metadata": {},
      "outputs": [],
      "source": [
        "### Exercise 29:\n",
        "Write a Python program that prints \"Fizz\" if a number is divisible by 3, \"Buzz\" if it is divisible by 5, and \"FizzBuzz\" if divisible by both.\n",
        "\n",
        "```python\n",
        "# Exercise 29"
      ]
    },
    {
      "cell_type": "code",
      "execution_count": null,
      "id": "cbdbaca3",
      "metadata": {},
      "outputs": [],
      "source": [
        "## Exercise 31:\n",
        "Write a Python program that checks if a string is a valid email address.\n",
        "\n",
        "```python"
      ]
    },
    {
      "cell_type": "code",
      "execution_count": null,
      "id": "96ee78b3",
      "metadata": {},
      "outputs": [],
      "source": [
        "# Exercise 32:\n",
        "Write a Python function that checks if a number is within 10 of 100 or 200.\n",
        "\n",
        "```python\n",
        "# Exercise 32"
      ]
    },
    {
      "cell_type": "code",
      "execution_count": null,
      "id": "1387fdef",
      "metadata": {},
      "outputs": [],
      "source": [
        "## Exercise 33:\n",
        "Write a Python program that checks if a given string is a valid URL.\n"
      ]
    },
    {
      "cell_type": "code",
      "execution_count": null,
      "id": "8d8bf311",
      "metadata": {},
      "outputs": [],
      "source": [
        "## Exercise 34:\n",
        "Write a Python program that checks if a list contains all even numbers."
      ]
    },
    {
      "cell_type": "code",
      "execution_count": null,
      "id": "6ef286ca",
      "metadata": {},
      "outputs": [],
      "source": [
        "## Exercise 35:\n",
        "Write a Python program that checks if a word is longer than a given length.\n"
      ]
    },
    {
      "cell_type": "code",
      "execution_count": null,
      "id": "dc05c0fe",
      "metadata": {},
      "outputs": [],
      "source": []
    },
    {
      "cell_type": "markdown",
      "id": "bea983a3",
      "metadata": {
        "id": "bea983a3"
      },
      "source": [
        "\n",
        "\n",
        "### Exercise 35:\n",
        "Write a Python program that checks if a word is longer than a given length.\n",
        "\n",
        "```python\n",
        "# Exercise 35\n",
        "```\n",
        "\n",
        "---\n",
        "\n",
        "### Exercise 36:\n",
        "Write a Python program that checks if a list contains only positive numbers.\n",
        "\n",
        "```python\n",
        "# Exercise 36\n",
        "```\n",
        "\n",
        "---\n",
        "\n",
        "### Exercise 37:\n",
        "Write a Python function that checks if a year is a century year (i.e., divisible by 100).\n",
        "\n",
        "```python\n",
        "# Exercise 37\n",
        "```\n",
        "\n",
        "---\n",
        "\n",
        "### Exercise 38:\n",
        "Write a Python program that checks if the sum of a list of numbers is greater than 100.\n",
        "\n",
        "```python\n",
        "# Exercise 38\n",
        "```\n",
        "\n",
        "---\n",
        "\n",
        "### Exercise 39:\n",
        "Write a Python function that checks if a given word is a substring of another string.\n",
        "\n",
        "```python\n",
        "# Exercise 39\n",
        "```\n",
        "\n",
        "---\n",
        "\n",
        "### Exercise 40:\n",
        "Write a Python program that checks if a number is a power of 2.\n",
        "\n",
        "```python\n",
        "# Exercise 40\n",
        "```\n",
        "\n",
        "---\n",
        "\n",
        "### Exercise 41:\n",
        "Write a Python function that checks if a string contains no spaces.\n",
        "\n",
        "```python\n",
        "# Exercise 41\n",
        "```\n",
        "\n",
        "---\n",
        "\n",
        "### Exercise 42:\n",
        "Write a Python program that prints \"Yes\" if a number is divisible by both 2 and 3, otherwise it prints \"No.\"\n",
        "\n",
        "```python\n",
        "# Exercise 42\n",
        "```\n",
        "\n",
        "---\n",
        "\n",
        "### Exercise 43:\n",
        "Write a Python program that checks if a number is a palindrome.\n",
        "\n",
        "```python\n",
        "# Exercise 43\n",
        "```\n",
        "\n",
        "---\n",
        "\n",
        "### Exercise 44:\n",
        "Write a Python function that checks if a string is made of only lowercase letters.\n",
        "\n",
        "```python\n",
        "# Exercise 44\n",
        "```\n",
        "\n",
        "---\n",
        "\n",
        "### Exercise 45:\n",
        "Write a Python program that checks if a string starts with a specific prefix.\n",
        "\n",
        "```python\n",
        "# Exercise 45\n",
        "```\n",
        "\n",
        "---\n",
        "\n",
        "### Exercise 46:\n",
        "Write a Python function that checks if a number is divisible by any number in a given list.\n",
        "\n",
        "```python\n",
        "# Exercise 46\n",
        "```\n",
        "\n",
        "---\n",
        "\n",
        "### Exercise 47:\n",
        "Write a Python program that prints \"Yes\" if a string has more than one occurrence of the same letter.\n",
        "\n",
        "```python\n",
        "# Exercise 47\n",
        "```\n",
        "\n",
        "---\n",
        "\n",
        "### Exercise 48:\n",
        "Write a Python function that checks if a number is prime by dividing it by numbers up to its square root.\n",
        "\n",
        "```python\n",
        "# Exercise 48\n",
        "```\n",
        "\n",
        "---\n",
        "\n",
        "### Exercise 49:\n",
        "Write a Python program that checks if a number is within 1 of a multiple of 10.\n",
        "\n",
        "```python\n",
        "# Exercise 49\n",
        "```\n",
        "\n",
        "---\n",
        "\n",
        "### Exercise 50:\n",
        "Write a Python program that prints \"In range\" if a number is between 10 and 20 (inclusive), otherwise it prints \"Out of range.\"\n",
        "\n",
        "```python\n",
        "# Exercise 50\n",
        "```\n",
        "\n",
        "---\n"
      ]
    }
  ],
  "metadata": {
    "colab": {
      "provenance": []
    },
    "kernelspec": {
      "display_name": "Python 3",
      "language": "python",
      "name": "python3"
    },
    "language_info": {
      "codemirror_mode": {
        "name": "ipython",
        "version": 3
      },
      "file_extension": ".py",
      "mimetype": "text/x-python",
      "name": "python",
      "nbconvert_exporter": "python",
      "pygments_lexer": "ipython3",
      "version": "3.10.11"
    }
  },
  "nbformat": 4,
  "nbformat_minor": 5
}
