{
  "cells": [
    {
      "cell_type": "markdown",
      "id": "426486dd",
      "metadata": {
        "id": "426486dd"
      },
      "source": [
        "\n",
        "\n",
        "# Practical_1: Variables and Assignments"
      ]
    },
    {
      "cell_type": "markdown",
      "id": "Oi99-QoeMSAE",
      "metadata": {
        "id": "Oi99-QoeMSAE"
      },
      "source": []
    },
    {
      "cell_type": "markdown",
      "id": "9DxuMmU3MUdX",
      "metadata": {
        "id": "9DxuMmU3MUdX"
      },
      "source": []
    },
    {
      "cell_type": "code",
      "execution_count": 1,
      "id": "jgr9fAR2MTQF",
      "metadata": {
        "colab": {
          "base_uri": "https://localhost:8080/"
        },
        "id": "jgr9fAR2MTQF",
        "outputId": "4de942c3-f4a9-47d8-ba59-98b2599b8e7e"
      },
      "outputs": [
        {
          "name": "stdout",
          "output_type": "stream",
          "text": [
            "I am AIMS Student for 2025\n"
          ]
        }
      ],
      "source": [
        "string1 = \"AIMS Student\"\n",
        "\n",
        "int1 = 2025\n",
        "\n",
        "print(\"I am \" +string1+ \" for\",int1)"
      ]
    },
    {
      "cell_type": "code",
      "execution_count": 2,
      "id": "c6491820",
      "metadata": {},
      "outputs": [
        {
          "name": "stdout",
          "output_type": "stream",
          "text": [
            "10\n"
          ]
        }
      ],
      "source": [
        "# Exercise 1\n",
        "x = 10\n",
        "\n",
        "print(x)"
      ]
    },
    {
      "cell_type": "code",
      "execution_count": 3,
      "id": "6981d9fd",
      "metadata": {},
      "outputs": [
        {
          "data": {
            "text/plain": [
              "bool"
            ]
          },
          "execution_count": 3,
          "metadata": {},
          "output_type": "execute_result"
        }
      ],
      "source": [
        "# Exercise 2\n",
        "is_valid = True\n",
        "\n",
        "type(is_valid)\n"
      ]
    },
    {
      "cell_type": "code",
      "execution_count": 4,
      "id": "fe29b49c",
      "metadata": {},
      "outputs": [
        {
          "name": "stdout",
          "output_type": "stream",
          "text": [
            "Python Programming\n"
          ]
        }
      ],
      "source": [
        "### Exercise 3:\n",
        "\"\"\"\n",
        "Create a string variable `name` \n",
        "with the value \"Python Programming\".\n",
        "\n",
        "# Exercise 3\n",
        "\"\"\"\n",
        "name = \"Python Programming\"\n",
        "\n",
        "print(name)\n"
      ]
    },
    {
      "cell_type": "code",
      "execution_count": 5,
      "id": "b77ea714",
      "metadata": {},
      "outputs": [
        {
          "name": "stdout",
          "output_type": "stream",
          "text": [
            "8\n"
          ]
        }
      ],
      "source": [
        "### Exercise 4:\n",
        "\"\"\"\n",
        "Assign the result of `5 + 3` to a variable `sum_result`.\n",
        "\n",
        "```python\n",
        "# Exercise 4\n",
        "\"\"\"\n",
        "sum_result = 5+3\n",
        "\n",
        "print(sum_result)\n"
      ]
    },
    {
      "cell_type": "code",
      "execution_count": 6,
      "id": "c373b3eb",
      "metadata": {},
      "outputs": [
        {
          "name": "stdout",
          "output_type": "stream",
          "text": [
            "5\n",
            "10\n",
            "15\n"
          ]
        }
      ],
      "source": [
        "\n",
        "### Exercise 5:\n",
        "\"\"\"\n",
        "Assign multiple variables in one line: `a = 5`, `b = 10`, `c = 15`.\n",
        "\n",
        "# Exercise 5\n",
        "\"\"\"\n",
        "a, b, c = 5, 10, 15\n",
        "\n",
        "print(a)\n",
        "\n",
        "print(b)\n",
        "\n",
        "print(c)\n"
      ]
    },
    {
      "cell_type": "code",
      "execution_count": 7,
      "id": "43f5958e",
      "metadata": {},
      "outputs": [
        {
          "name": "stdout",
          "output_type": "stream",
          "text": [
            "3\n"
          ]
        }
      ],
      "source": [
        "\n",
        "### Exercise 6:\n",
        "\"\"\"\n",
        "Assign the value of one variable `x` to another variable `y`.\n",
        "\n",
        "# Exercise 6\n",
        "\"\"\"\n",
        "x = 3\n",
        "\n",
        "y = x\n",
        "\n",
        "print(y)\n"
      ]
    },
    {
      "cell_type": "code",
      "execution_count": 8,
      "id": "55953f36",
      "metadata": {},
      "outputs": [
        {
          "name": "stdout",
          "output_type": "stream",
          "text": [
            "9.8\n"
          ]
        }
      ],
      "source": [
        "\n",
        "### Exercise 7:\n",
        "\n",
        "\"\"\"\n",
        "Assign a floating-point number `9.8` to a variable `gravity`.\n",
        "\n",
        "# Exercise 7\n",
        "\"\"\"\n",
        "gravity = 9.8\n",
        "\n",
        "print(gravity)"
      ]
    },
    {
      "cell_type": "code",
      "execution_count": 9,
      "id": "ad3d9d23",
      "metadata": {},
      "outputs": [
        {
          "name": "stdout",
          "output_type": "stream",
          "text": [
            "Sénégal\n"
          ]
        }
      ],
      "source": [
        "\n",
        "### Exercise 8:\n",
        "\"\"\"\n",
        "Create a variable `country` and assign it the string value of your favorite country.\n",
        "\n",
        "# Exercise 8\n",
        "\"\"\"\n",
        "country = \"Sénégal\"\n",
        "\n",
        "print(country)\n"
      ]
    },
    {
      "cell_type": "code",
      "execution_count": 10,
      "id": "ad55ec32",
      "metadata": {},
      "outputs": [
        {
          "name": "stdout",
          "output_type": "stream",
          "text": [
            "26\n",
            "26\n"
          ]
        }
      ],
      "source": [
        "### Exercise 9:\n",
        "\"\"\"\n",
        "Change the value of variable `age` from `25` to `26` in two separate steps.\n",
        "# Exercise 9\n",
        "\"\"\"\n",
        "#first step\n",
        "age = 25\n",
        "\n",
        "age = 26\n",
        "\n",
        "print(age)\n",
        "\n",
        "#second step\n",
        "age = 25\n",
        "\n",
        "x = 26\n",
        "\n",
        "age = x\n",
        "\n",
        "print(age)\n",
        "\n",
        "\n"
      ]
    },
    {
      "cell_type": "code",
      "execution_count": 11,
      "id": "f270b125",
      "metadata": {},
      "outputs": [
        {
          "name": "stdout",
          "output_type": "stream",
          "text": [
            "13\n"
          ]
        }
      ],
      "source": [
        "\n",
        "### Exercise 10:\n",
        "\"\"\"\n",
        "Use one variable to store the result of subtracting two numbers `20 - 7`.\n",
        "\n",
        "# Exercise 10\n",
        "\"\"\"\n",
        "sum_substract = 20 - 7\n",
        "\n",
        "print(sum_substract)\n"
      ]
    },
    {
      "cell_type": "code",
      "execution_count": 12,
      "id": "d8a96be2",
      "metadata": {},
      "outputs": [
        {
          "name": "stdout",
          "output_type": "stream",
          "text": [
            "13\n",
            "13.48\n"
          ]
        }
      ],
      "source": [
        "#$# Exercise 11:\n",
        "\"\"\"\n",
        "Assign an integer value and a floating-point value to two different variables.\n",
        "\n",
        "```python\n",
        "# Exercise 11\n",
        "\"\"\"\n",
        "my_int = 13\n",
        "\n",
        "my_float = 13.48\n",
        "\n",
        "print(my_int)\n",
        "\n",
        "print(my_float)\n",
        "\n"
      ]
    },
    {
      "cell_type": "code",
      "execution_count": 13,
      "id": "6a0d2ae6",
      "metadata": {},
      "outputs": [
        {
          "data": {
            "text/plain": [
              "bool"
            ]
          },
          "execution_count": 13,
          "metadata": {},
          "output_type": "execute_result"
        }
      ],
      "source": [
        "\n",
        "### Exercise 12:\n",
        "\"\"\"\n",
        "Assign a boolean value `False` to a variable `is_completed`.\n",
        "\n",
        "\n",
        "# Exercise 12\n",
        "\"\"\"\n",
        "is_completed = False\n",
        "\n",
        "type(is_completed)\n",
        "\n",
        "\n"
      ]
    },
    {
      "cell_type": "code",
      "execution_count": 14,
      "id": "7c96b688",
      "metadata": {},
      "outputs": [
        {
          "name": "stdout",
          "output_type": "stream",
          "text": [
            "10\n",
            "12\n"
          ]
        }
      ],
      "source": [
        "### Exercise 13:\n",
        "\"\"\"\n",
        "Swap the values of two variables `x` and `y`.\n",
        "\"\"\"\n",
        "\n",
        "# Exercise 13\n",
        "\n",
        "x = 12\n",
        "\n",
        "c = x\n",
        "\n",
        "y = 10\n",
        "\n",
        "x = y\n",
        "\n",
        "y = c\n",
        "\n",
        "print(x)\n",
        "\n",
        "print(y)\n",
        "\n",
        "\n"
      ]
    },
    {
      "cell_type": "code",
      "execution_count": 15,
      "id": "9e24d69b",
      "metadata": {},
      "outputs": [
        {
          "name": "stdout",
          "output_type": "stream",
          "text": [
            "(3+4j)\n"
          ]
        }
      ],
      "source": [
        "### Exercise 14:\n",
        "\"\"\"\n",
        "Assign a complex number `3 + 4j` to a variable `complex_num`.\n",
        "\n",
        "# Exercise 14\n",
        "\"\"\"\n",
        "a = 3\n",
        "\n",
        "b = 4\n",
        "\n",
        "c = a + b * 1j\n",
        "\n",
        "print(c)\n"
      ]
    },
    {
      "cell_type": "code",
      "execution_count": 16,
      "id": "5640651c",
      "metadata": {},
      "outputs": [
        {
          "data": {
            "text/plain": [
              "str"
            ]
          },
          "execution_count": 16,
          "metadata": {},
          "output_type": "execute_result"
        }
      ],
      "source": [
        "### Exercise 15:\n",
        "\"\"\"\n",
        "Reassign a variable from an integer to a string.\n",
        "\n",
        "# Exercise 15\n",
        "\"\"\"\n",
        "number1 = 12\n",
        "\n",
        "number2 = str(number1)\n",
        "\n",
        "type(number2)\n"
      ]
    },
    {
      "cell_type": "code",
      "execution_count": 17,
      "id": "b51bdd86",
      "metadata": {},
      "outputs": [
        {
          "name": "stdout",
          "output_type": "stream",
          "text": [
            "Marie-Paul\n",
            "BASSE\n"
          ]
        }
      ],
      "source": [
        "### Exercise 16:\n",
        "\"\"\"\n",
        "Create two variables `first_name` and `last_name`, and assign them your first and last names.\n",
        "\n",
        "# Exercise 16\n",
        "\"\"\"\n",
        "first_name = \"Marie-Paul\"\n",
        "\n",
        "last_name = \"BASSE\"\n",
        "\n",
        "print(first_name)\n",
        "\n",
        "print(last_name)\n",
        "\n"
      ]
    },
    {
      "cell_type": "code",
      "execution_count": 18,
      "id": "5494e5c7",
      "metadata": {},
      "outputs": [
        {
          "name": "stdout",
          "output_type": "stream",
          "text": [
            "35.5\n"
          ]
        }
      ],
      "source": [
        "### Exercise 17:\n",
        "\"\"\"\n",
        "Create a variable `temperature` and assign it the value of `35.5`.\n",
        "\n",
        "# Exercise 17\n",
        "\"\"\"\n",
        "temperature = 35.5\n",
        "\n",
        "print(temperature)\n"
      ]
    },
    {
      "cell_type": "code",
      "execution_count": 19,
      "id": "42b7a501",
      "metadata": {},
      "outputs": [
        {
          "name": "stdout",
          "output_type": "stream",
          "text": [
            "48\n"
          ]
        }
      ],
      "source": [
        "## Exercise 18:\n",
        "\n",
        "\"\"\"Assign the result of the multiplication of two numbers `8 * 6` to a variable `product`.\n",
        "\n",
        "\"\"\"\n",
        "# Exercise 18\n",
        "\n",
        "product = 8*6\n",
        "\n",
        "print(product)\n",
        "\n"
      ]
    },
    {
      "cell_type": "code",
      "execution_count": 20,
      "id": "1de0a7bf",
      "metadata": {},
      "outputs": [
        {
          "name": "stdout",
          "output_type": "stream",
          "text": [
            "I am student at AIMS Senegal\n"
          ]
        }
      ],
      "source": [
        "### Exercise 19:\n",
        "\"\"\"\n",
        "\n",
        "Assign a sentence of your choice to a variable `sentence`.\n",
        "\"\"\"\n",
        "# Exercise 19\n",
        "\n",
        "sentence = \"I am student at AIMS Senegal\"\n",
        "\n",
        "print(sentence)\n"
      ]
    },
    {
      "cell_type": "code",
      "execution_count": 1,
      "id": "7a9307e9",
      "metadata": {},
      "outputs": [
        {
          "data": {
            "text/plain": [
              "int"
            ]
          },
          "execution_count": 1,
          "metadata": {},
          "output_type": "execute_result"
        }
      ],
      "source": [
        "### Exercise 20:\n",
        "\"\"\"\n",
        "Use an assignment to convert a string `'50'` into an integer variable `int_value`.\n",
        "# Exercise 20\n",
        "\"\"\"\n",
        "text = \"50\"\n",
        "\n",
        "int_value = int(text)\n",
        "\n",
        "type(int_value)"
      ]
    },
    {
      "cell_type": "code",
      "execution_count": 2,
      "id": "ab435f4d",
      "metadata": {},
      "outputs": [
        {
          "name": "stdout",
          "output_type": "stream",
          "text": [
            "12.0\n"
          ]
        }
      ],
      "source": [
        "### Exercise 21:\n",
        "\"\"\"\n",
        "Assign the result of dividing `144` by `12` to a variable `quotient`.\n",
        "\n",
        "# Exercise 21\n",
        "\"\"\"\n",
        "quotient = 144 / 12\n",
        "\n",
        "print(quotient)"
      ]
    },
    {
      "cell_type": "code",
      "execution_count": 3,
      "id": "8c20fe99",
      "metadata": {},
      "outputs": [
        {
          "name": "stdout",
          "output_type": "stream",
          "text": [
            "2\n"
          ]
        }
      ],
      "source": [
        "### Exercise 22:\n",
        "\"\"\"\n",
        "Assign the remainder of `47 divided by 5` to a variable `remainder`.\n",
        "\n",
        "# Exercise 22\n",
        "\"\"\"\n",
        "remainder = 47 % 5\n",
        "\n",
        "print(remainder)"
      ]
    },
    {
      "cell_type": "code",
      "execution_count": 4,
      "id": "13a1bef1",
      "metadata": {},
      "outputs": [
        {
          "data": {
            "text/plain": [
              "bool"
            ]
          },
          "execution_count": 4,
          "metadata": {},
          "output_type": "execute_result"
        }
      ],
      "source": [
        "### Exercise 23:\n",
        "\"\"\"\n",
        "Create a variable `is_student` and assign it the value `True`.\n",
        "\n",
        "# Exercise 23\n",
        "\"\"\"\n",
        "is_student = True\n",
        "\n",
        "type(is_student)"
      ]
    },
    {
      "cell_type": "code",
      "execution_count": 5,
      "id": "01e4fb8d",
      "metadata": {},
      "outputs": [
        {
          "name": "stdout",
          "output_type": "stream",
          "text": [
            "1\n"
          ]
        }
      ],
      "source": [
        "### Exercise 24:\n",
        "\"\"\"\n",
        "Use a variable to store the result of a modulo operation: `45 % 4`.\n",
        "\"\"\"\n",
        "# Exercise 24\n",
        "result = 45 % 4\n",
        "\n",
        "print(result)"
      ]
    },
    {
      "cell_type": "code",
      "execution_count": 6,
      "id": "0fae8ccf",
      "metadata": {},
      "outputs": [
        {
          "name": "stdout",
          "output_type": "stream",
          "text": [
            "3.14159\n"
          ]
        }
      ],
      "source": [
        "\n",
        "### Exercise 25:\n",
        "\"\"\"\n",
        "Create a variable `pi` and assign it the value `3.14159`.\n",
        "\"\"\"\n",
        "# Exercise 25\n",
        "pi = 3.14159\n",
        "\n",
        "print(pi)"
      ]
    },
    {
      "cell_type": "code",
      "execution_count": 7,
      "id": "7486d88b",
      "metadata": {},
      "outputs": [
        {
          "name": "stdout",
          "output_type": "stream",
          "text": [
            "500\n"
          ]
        }
      ],
      "source": [
        "### Exercise 26:\n",
        "\"\"\"\n",
        "Create two variables `length` and `width`, assign them values, and calculate the area of a rectangle.\n",
        "\"\"\"\n",
        "# Exercise 26\n",
        "length = 25\n",
        "\n",
        "width = 20\n",
        "\n",
        "area_rectangle = length * width\n",
        "\n",
        "print(area_rectangle)"
      ]
    },
    {
      "cell_type": "code",
      "execution_count": 8,
      "id": "518f60ec",
      "metadata": {},
      "outputs": [
        {
          "name": "stdout",
          "output_type": "stream",
          "text": [
            "-57\n"
          ]
        }
      ],
      "source": [
        "### Exercise 27:\n",
        "\"\"\"\n",
        "Assign a negative number to a variable `negative_value`.\n",
        "\"\"\"\n",
        "# Exercise 27\n",
        "negative_value = -57\n",
        "\n",
        "print(negative_value)\n"
      ]
    },
    {
      "cell_type": "code",
      "execution_count": 10,
      "id": "c7e71e19",
      "metadata": {},
      "outputs": [
        {
          "name": "stdout",
          "output_type": "stream",
          "text": [
            " 'Hello, World!' \n"
          ]
        }
      ],
      "source": [
        "### Exercise 28:\n",
        "\"\"\"\n",
        "Assign a string containing a special character (e.g., \"Hello, World!\") to a variable `greeting`.\n",
        "\"\"\"\n",
        "# Exercise 28\n",
        "greeting = \" 'Hello, World!' \"\n",
        "\n",
        "print(greeting)"
      ]
    },
    {
      "cell_type": "code",
      "execution_count": 11,
      "id": "91ae24b9",
      "metadata": {},
      "outputs": [
        {
          "name": "stdout",
          "output_type": "stream",
          "text": [
            "255500546\n"
          ]
        }
      ],
      "source": [
        "### Exercise 29:\n",
        "\"\"\"\n",
        "Create a variable `population` and assign it a large integer value (in billions).\n",
        "\"\"\"\n",
        "# Exercise 29\n",
        "population = 255500546\n",
        "\n",
        "print(population)"
      ]
    },
    {
      "cell_type": "code",
      "execution_count": 12,
      "id": "905f6b38",
      "metadata": {},
      "outputs": [
        {
          "name": "stdout",
          "output_type": "stream",
          "text": [
            "256\n"
          ]
        }
      ],
      "source": [
        "### Exercise 30:\n",
        "\"\"\"\n",
        "Use a variable to store the result of raising `2` to the power of `8`.\n",
        "\"\"\"\n",
        "# Exercise 30\n",
        "result = 2 ** 8\n",
        "\n",
        "print(result)"
      ]
    },
    {
      "cell_type": "code",
      "execution_count": 13,
      "id": "1ab829d4",
      "metadata": {},
      "outputs": [
        {
          "name": "stdout",
          "output_type": "stream",
          "text": [
            "['Banana', 'Apple', 'Lemon']\n"
          ]
        }
      ],
      "source": [
        "### Exercise 31:\n",
        "\"\"\"\n",
        "Assign a list of your favorite fruits to a variable `fruits`.\n",
        "\"\"\"\n",
        "# Exercise 31\n",
        "fruits = ['Banana', 'Apple', 'Lemon']\n",
        "\n",
        "print(fruits)"
      ]
    },
    {
      "cell_type": "code",
      "execution_count": 14,
      "id": "449671e1",
      "metadata": {},
      "outputs": [
        {
          "name": "stdout",
          "output_type": "stream",
          "text": [
            "(20, 34, 45)\n"
          ]
        }
      ],
      "source": [
        "### Exercise 32:\n",
        "\"\"\"\n",
        "Assign a tuple of three numbers to a variable `coordinates`.\n",
        "\"\"\"\n",
        "# Exercise 32\n",
        "\n",
        "\n",
        "coordinates = (20, 34, 45)\n",
        "\n",
        "print(coordinates)"
      ]
    },
    {
      "cell_type": "code",
      "execution_count": 15,
      "id": "c4f7fa07",
      "metadata": {},
      "outputs": [
        {
          "name": "stdout",
          "output_type": "stream",
          "text": [
            "{'name': 'Marie', 'age': 25}\n"
          ]
        }
      ],
      "source": [
        "### Exercise 33:\n",
        "\"\"\"\n",
        "Assign a dictionary with keys `name` and `age` to a variable `person`.\n",
        "\"\"\"\n",
        "# Exercise 33\n",
        "person = {\n",
        "   'name' : 'Marie',\n",
        "   'age' : 25\n",
        "\n",
        "}\n",
        "\n",
        "print(person)"
      ]
    },
    {
      "cell_type": "code",
      "execution_count": 16,
      "id": "38c880d6",
      "metadata": {},
      "outputs": [
        {
          "name": "stdout",
          "output_type": "stream",
          "text": [
            "60.459999999999994\n"
          ]
        }
      ],
      "source": [
        "### Exercise 34:\n",
        "\"\"\"\n",
        "Use variables to store the sum of two floating-point numbers.\n",
        "\"\"\"\n",
        "# Exercise 34\n",
        "\n",
        "float1 = 25.7\n",
        "\n",
        "float2 = 34.76\n",
        "\n",
        "sum_float = float1 + float2\n",
        "\n",
        "print(sum_float)\n"
      ]
    },
    {
      "cell_type": "code",
      "execution_count": 17,
      "id": "7eecdf0f",
      "metadata": {},
      "outputs": [
        {
          "name": "stdout",
          "output_type": "stream",
          "text": [
            "True\n"
          ]
        },
        {
          "data": {
            "text/plain": [
              "bool"
            ]
          },
          "execution_count": 17,
          "metadata": {},
          "output_type": "execute_result"
        }
      ],
      "source": [
        "### Exercise 35:\n",
        "\"\"\"\n",
        "Create a variable `is_sunny` and assign it the result of a comparison `10 > 5`.\n",
        "\"\"\"\n",
        "# Exercise 35\n",
        "\n",
        "is_sunny = 10 > 5\n",
        "\n",
        "print(is_sunny)\n",
        "\n",
        "type(is_sunny)"
      ]
    },
    {
      "cell_type": "code",
      "execution_count": 20,
      "id": "51343ea6",
      "metadata": {},
      "outputs": [
        {
          "name": "stdout",
          "output_type": "stream",
          "text": [
            "I am AIMS Student for 2025\n"
          ]
        }
      ],
      "source": [
        "### Exercise 36:\n",
        "\"\"\"\n",
        "Assign a string and an integer to two different variables, then print both on one line.\n",
        "\"\"\"\n",
        "# Exercise 36\n",
        "string1 = \"AIMS Student\"\n",
        "\n",
        "int1 = 2025\n",
        "\n",
        "print(\"I am\",string1, \"for\" ,int1)\n",
        "\n"
      ]
    },
    {
      "cell_type": "code",
      "execution_count": 21,
      "id": "dfb81a51",
      "metadata": {},
      "outputs": [
        {
          "data": {
            "text/plain": [
              "bool"
            ]
          },
          "execution_count": 21,
          "metadata": {},
          "output_type": "execute_result"
        }
      ],
      "source": [
        "### Exercise 37:\n",
        "\"\"\"\n",
        "Reassign a variable that originally held a number to a boolean value.\n",
        "\"\"\"\n",
        "# Exercise 37\n",
        "int5 = 10\n",
        "\n",
        "b = bool(int5)\n",
        "\n",
        "type(b)"
      ]
    },
    {
      "cell_type": "code",
      "execution_count": 22,
      "id": "cdde3b86",
      "metadata": {},
      "outputs": [],
      "source": [
        "\n",
        "### Exercise 38:\n",
        "\"\"\"\n",
        "Create a variable `is_weekend` and assign it the result of `False`.\n",
        "\"\"\"\n",
        "# Exercise 38\n",
        "is_weekend = False"
      ]
    },
    {
      "cell_type": "code",
      "execution_count": 23,
      "id": "5af5f50a",
      "metadata": {},
      "outputs": [
        {
          "name": "stdout",
          "output_type": "stream",
          "text": [
            " Le Big Data désigne de vastes ensembles de données collectées, analysées et exploitées pour extraire des informations précieuses. Ces données proviennent de diverses sources comme les transactions, les réseaux sociaux, ou encore les objets connectés. Le Big Data est défini par les 3 V : Volume (quantité massive de données), Variété (diversité des formats) et Vélocité (vitesse de génération et de traitement des données) . Les entreprises utilisent le Big Data pour améliorer leurs opérations, personnaliser leurs campagnes marketing, ou encore optimiser leurs décisions stratégiques. Par exemple, une entreprise peut analyser les données pour mieux comprendre les attentes de ses clients et développer des produits adaptés. Dans le domaine médical, le Big Data permet d’identifier des facteurs de risque ou de suivre des épidémies . Les données peuvent être structurées (format fixe comme les bases de données), non structurées (images, vidéos, etc.), ou semi-structurées (fichiers XML, JSON). Leur traitement nécessite des outils spécifiques comme Hadoop, Apache Spark, ou des solutions Cloud telles qu’Amazon S3 ou Google Cloud Dataproc. Ces technologies permettent de gérer les défis liés au stockage et au traitement des données massives \n"
          ]
        }
      ],
      "source": [
        "### Exercise 39:\n",
        "\"\"\"\n",
        "Assign a multi-line string to a variable `description`.\n",
        "\"\"\"\n",
        "# Exercise 39\n",
        "description = \" Le Big Data désigne de vastes ensembles de données collectées, analysées et exploitées pour extraire des informations précieuses. Ces données proviennent de diverses sources comme les transactions, les réseaux sociaux, ou encore les objets connectés. Le Big Data est défini par les 3 V : Volume (quantité massive de données), Variété (diversité des formats) et Vélocité (vitesse de génération et de traitement des données) . Les entreprises utilisent le Big Data pour améliorer leurs opérations, personnaliser leurs campagnes marketing, ou encore optimiser leurs décisions stratégiques. Par exemple, une entreprise peut analyser les données pour mieux comprendre les attentes de ses clients et développer des produits adaptés. Dans le domaine médical, le Big Data permet d’identifier des facteurs de risque ou de suivre des épidémies . Les données peuvent être structurées (format fixe comme les bases de données), non structurées (images, vidéos, etc.), ou semi-structurées (fichiers XML, JSON). Leur traitement nécessite des outils spécifiques comme Hadoop, Apache Spark, ou des solutions Cloud telles qu’Amazon S3 ou Google Cloud Dataproc. Ces technologies permettent de gérer les défis liés au stockage et au traitement des données massives \"\n",
        "\n",
        "\n",
        "print(description)"
      ]
    },
    {
      "cell_type": "code",
      "execution_count": 24,
      "id": "8f1d26d3",
      "metadata": {},
      "outputs": [
        {
          "name": "stdout",
          "output_type": "stream",
          "text": [
            "25\n"
          ]
        }
      ],
      "source": [
        "### Exercise 40:\n",
        "\"\"\"\n",
        "Use variables to store the result of the absolute value of `-25`.\n",
        "\"\"\"\n",
        "# Exercise 40\n",
        "result = abs(-25)\n",
        "\n",
        "print(result)\n"
      ]
    },
    {
      "cell_type": "code",
      "execution_count": 25,
      "id": "85867a17",
      "metadata": {},
      "outputs": [
        {
          "name": "stdout",
          "output_type": "stream",
          "text": [
            "16\n"
          ]
        }
      ],
      "source": [
        "\n",
        "### Exercise 41:\n",
        "\"\"\"\n",
        "Assign the result of a floor division `100 // 6` to a variable `floor_div_result`.\n",
        "\"\"\"\n",
        "# Exercise 41\n",
        "floor_div_result = 100 // 6\n",
        "\n",
        "print(floor_div_result)"
      ]
    },
    {
      "cell_type": "code",
      "execution_count": 26,
      "id": "6185f6d2",
      "metadata": {},
      "outputs": [
        {
          "name": "stdout",
          "output_type": "stream",
          "text": [
            "26.47\n"
          ]
        },
        {
          "data": {
            "text/plain": [
              "float"
            ]
          },
          "execution_count": 26,
          "metadata": {},
          "output_type": "execute_result"
        }
      ],
      "source": [
        "### Exercise 42:\n",
        "\"\"\"\n",
        "Assign the result of adding a floating-point number to an integer to a variable `mixed_sum`.\n",
        "\"\"\"\n",
        "\n",
        "# Exercise 42\n",
        "mixed_sum = 12.47 + 14\n",
        "\n",
        "print(mixed_sum)\n",
        "\n",
        "type(mixed_sum)"
      ]
    },
    {
      "cell_type": "code",
      "execution_count": 27,
      "id": "a8484454",
      "metadata": {},
      "outputs": [
        {
          "name": "stdout",
          "output_type": "stream",
          "text": [
            "False\n"
          ]
        },
        {
          "data": {
            "text/plain": [
              "bool"
            ]
          },
          "execution_count": 27,
          "metadata": {},
          "output_type": "execute_result"
        }
      ],
      "source": [
        "### Exercise 43:\n",
        "\"\"\"\n",
        "Assign a boolean value based on the comparison of two variables `a = 10` and `b = 15`.\n",
        "\"\"\"\n",
        "\n",
        "# Exercise 43\n",
        "\n",
        "a = 10\n",
        "\n",
        "b = 15\n",
        "\n",
        "com = a > b\n",
        "\n",
        "print(com)\n",
        "\n",
        "type(com)"
      ]
    },
    {
      "cell_type": "code",
      "execution_count": 28,
      "id": "67bce939",
      "metadata": {},
      "outputs": [
        {
          "name": "stdout",
          "output_type": "stream",
          "text": [
            "10\n"
          ]
        }
      ],
      "source": [
        "### Exercise 44:\n",
        "\"\"\"\n",
        "Assign a long sentence to a variable and count its characters using `len()`.\n",
        "\"\"\"\n",
        "\n",
        "# Exercise 44\n",
        "phrase = \"Marie-Paul\"\n",
        "\n",
        "print(len(phrase))"
      ]
    },
    {
      "cell_type": "code",
      "execution_count": 29,
      "id": "7e342bfe",
      "metadata": {},
      "outputs": [
        {
          "name": "stdout",
          "output_type": "stream",
          "text": [
            "2.3333333333333335\n"
          ]
        }
      ],
      "source": [
        "### Exercise 45:\n",
        "\"\"\"\n",
        "Assign a fractional result `7 / 3` to a variable `division_result`.\n",
        "\"\"\"\n",
        "\n",
        "# Exercise 45\n",
        "\n",
        "division_result = 7 / 3\n",
        "\n",
        "print(division_result)"
      ]
    },
    {
      "cell_type": "code",
      "execution_count": 30,
      "id": "ad946560",
      "metadata": {},
      "outputs": [
        {
          "name": "stdout",
          "output_type": "stream",
          "text": [
            "1.6666666666666667\n"
          ]
        }
      ],
      "source": [
        "### Exercise 46:\n",
        "\"\"\"\n",
        "Create a variable `speed` and assign it the value of 100 kilometers per hour.\n",
        "\"\"\"\n",
        "\n",
        "# Exercise 46\n",
        "\n",
        "speed = 100 / 60\n",
        "\n",
        "print(speed)\n"
      ]
    },
    {
      "cell_type": "code",
      "execution_count": 31,
      "id": "41fe2293",
      "metadata": {},
      "outputs": [
        {
          "name": "stdout",
          "output_type": "stream",
          "text": [
            "17\n"
          ]
        }
      ],
      "source": [
        "### Exercise 47:\n",
        "\"\"\"\n",
        "Assign a multi-variable equation like `y = 3x + 5` where `x = 4` to a variable `y`.\n",
        "\"\"\"\n",
        "\n",
        "# Exercise 47\n",
        "x = 4\n",
        "\n",
        "y  = 3 * x + 5\n",
        "\n",
        "print(y)"
      ]
    },
    {
      "cell_type": "code",
      "execution_count": 32,
      "id": "84194667",
      "metadata": {},
      "outputs": [
        {
          "name": "stdout",
          "output_type": "stream",
          "text": [
            "33.666666666666664\n"
          ]
        }
      ],
      "source": [
        "### Exercise 48:\n",
        "\"\"\"\n",
        "Use variables to calculate and store the average of three numbers.\n",
        "\"\"\"\n",
        "\n",
        "# Exercise 48\n",
        "x = 34\n",
        "\n",
        "y = 23\n",
        "\n",
        "z = 44\n",
        "\n",
        "moyenne = (x+y+z) / 3\n",
        "\n",
        "print(moyenne)\n"
      ]
    },
    {
      "cell_type": "code",
      "execution_count": null,
      "id": "GbXyMvkEBGzf",
      "metadata": {
        "id": "GbXyMvkEBGzf"
      },
      "outputs": [],
      "source": []
    },
    {
      "cell_type": "code",
      "execution_count": null,
      "id": "s3sDh5ckA_mU",
      "metadata": {
        "id": "s3sDh5ckA_mU"
      },
      "outputs": [],
      "source": []
    }
  ],
  "metadata": {
    "colab": {
      "provenance": []
    },
    "kernelspec": {
      "display_name": "Python 3",
      "language": "python",
      "name": "python3"
    },
    "language_info": {
      "codemirror_mode": {
        "name": "ipython",
        "version": 3
      },
      "file_extension": ".py",
      "mimetype": "text/x-python",
      "name": "python",
      "nbconvert_exporter": "python",
      "pygments_lexer": "ipython3",
      "version": "3.10.9"
    }
  },
  "nbformat": 4,
  "nbformat_minor": 5
}
